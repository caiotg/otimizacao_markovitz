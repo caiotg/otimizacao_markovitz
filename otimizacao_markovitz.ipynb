{
 "cells": [
  {
   "cell_type": "code",
   "execution_count": 1,
   "metadata": {},
   "outputs": [],
   "source": [
    "import pandas as pd\n",
    "import numpy as np\n",
    "import matplotlib.pyplot as plt\n",
    "import datetime as dt\n",
    "import yfinance as yf\n",
    "from scipy.optimize import minimize\n",
    "import matplotlib.ticker as mtick\n",
    "import mplcyberpunk\n",
    "\n",
    "plt.style.use('cyberpunk')"
   ]
  },
  {
   "cell_type": "code",
   "execution_count": 2,
   "metadata": {},
   "outputs": [
    {
     "name": "stdout",
     "output_type": "stream",
     "text": [
      "[*********************100%***********************]  4 of 4 completed\n"
     ]
    },
    {
     "data": {
      "text/html": [
       "<div>\n",
       "<style scoped>\n",
       "    .dataframe tbody tr th:only-of-type {\n",
       "        vertical-align: middle;\n",
       "    }\n",
       "\n",
       "    .dataframe tbody tr th {\n",
       "        vertical-align: top;\n",
       "    }\n",
       "\n",
       "    .dataframe thead th {\n",
       "        text-align: right;\n",
       "    }\n",
       "</style>\n",
       "<table border=\"1\" class=\"dataframe\">\n",
       "  <thead>\n",
       "    <tr style=\"text-align: right;\">\n",
       "      <th></th>\n",
       "      <th>AAPL</th>\n",
       "      <th>AMZN</th>\n",
       "      <th>KO</th>\n",
       "      <th>V</th>\n",
       "    </tr>\n",
       "    <tr>\n",
       "      <th>Date</th>\n",
       "      <th></th>\n",
       "      <th></th>\n",
       "      <th></th>\n",
       "      <th></th>\n",
       "    </tr>\n",
       "  </thead>\n",
       "  <tbody>\n",
       "    <tr>\n",
       "      <th>2015-01-02</th>\n",
       "      <td>24.531767</td>\n",
       "      <td>15.426000</td>\n",
       "      <td>32.347382</td>\n",
       "      <td>62.498680</td>\n",
       "    </tr>\n",
       "    <tr>\n",
       "      <th>2015-01-05</th>\n",
       "      <td>23.840662</td>\n",
       "      <td>15.109500</td>\n",
       "      <td>32.347382</td>\n",
       "      <td>61.119095</td>\n",
       "    </tr>\n",
       "    <tr>\n",
       "      <th>2015-01-06</th>\n",
       "      <td>23.842911</td>\n",
       "      <td>14.764500</td>\n",
       "      <td>32.593014</td>\n",
       "      <td>60.725262</td>\n",
       "    </tr>\n",
       "    <tr>\n",
       "      <th>2015-01-07</th>\n",
       "      <td>24.177237</td>\n",
       "      <td>14.921000</td>\n",
       "      <td>32.999851</td>\n",
       "      <td>61.538864</td>\n",
       "    </tr>\n",
       "    <tr>\n",
       "      <th>2015-01-08</th>\n",
       "      <td>25.106184</td>\n",
       "      <td>15.023000</td>\n",
       "      <td>33.399017</td>\n",
       "      <td>62.364258</td>\n",
       "    </tr>\n",
       "    <tr>\n",
       "      <th>...</th>\n",
       "      <td>...</td>\n",
       "      <td>...</td>\n",
       "      <td>...</td>\n",
       "      <td>...</td>\n",
       "    </tr>\n",
       "    <tr>\n",
       "      <th>2022-12-23</th>\n",
       "      <td>131.477127</td>\n",
       "      <td>85.250000</td>\n",
       "      <td>63.334194</td>\n",
       "      <td>205.027924</td>\n",
       "    </tr>\n",
       "    <tr>\n",
       "      <th>2022-12-27</th>\n",
       "      <td>129.652435</td>\n",
       "      <td>83.040001</td>\n",
       "      <td>63.721226</td>\n",
       "      <td>205.486115</td>\n",
       "    </tr>\n",
       "    <tr>\n",
       "      <th>2022-12-28</th>\n",
       "      <td>125.674019</td>\n",
       "      <td>81.820000</td>\n",
       "      <td>63.086098</td>\n",
       "      <td>204.191208</td>\n",
       "    </tr>\n",
       "    <tr>\n",
       "      <th>2022-12-29</th>\n",
       "      <td>129.233658</td>\n",
       "      <td>84.180000</td>\n",
       "      <td>63.463207</td>\n",
       "      <td>207.249237</td>\n",
       "    </tr>\n",
       "    <tr>\n",
       "      <th>2022-12-30</th>\n",
       "      <td>129.552719</td>\n",
       "      <td>84.000000</td>\n",
       "      <td>63.125793</td>\n",
       "      <td>206.950394</td>\n",
       "    </tr>\n",
       "  </tbody>\n",
       "</table>\n",
       "<p>2014 rows × 4 columns</p>\n",
       "</div>"
      ],
      "text/plain": [
       "                  AAPL       AMZN         KO           V\n",
       "Date                                                    \n",
       "2015-01-02   24.531767  15.426000  32.347382   62.498680\n",
       "2015-01-05   23.840662  15.109500  32.347382   61.119095\n",
       "2015-01-06   23.842911  14.764500  32.593014   60.725262\n",
       "2015-01-07   24.177237  14.921000  32.999851   61.538864\n",
       "2015-01-08   25.106184  15.023000  33.399017   62.364258\n",
       "...                ...        ...        ...         ...\n",
       "2022-12-23  131.477127  85.250000  63.334194  205.027924\n",
       "2022-12-27  129.652435  83.040001  63.721226  205.486115\n",
       "2022-12-28  125.674019  81.820000  63.086098  204.191208\n",
       "2022-12-29  129.233658  84.180000  63.463207  207.249237\n",
       "2022-12-30  129.552719  84.000000  63.125793  206.950394\n",
       "\n",
       "[2014 rows x 4 columns]"
      ]
     },
     "execution_count": 2,
     "metadata": {},
     "output_type": "execute_result"
    }
   ],
   "source": [
    "inicio = dt.date(2015,1,1)\n",
    "final = dt.date(2022,12,31)\n",
    "\n",
    "ativos = ['AAPL', 'v', 'AMZN', 'KO']\n",
    "\n",
    "cotacoes = yf.download(ativos, inicio, final)['Adj Close']\n",
    "\n",
    "cotacoes"
   ]
  },
  {
   "cell_type": "code",
   "execution_count": 3,
   "metadata": {},
   "outputs": [],
   "source": [
    "retornos = cotacoes.pct_change().apply(lambda x: np.log(1+x)).dropna()\n",
    "mediaRetornos = retornos.mean()\n",
    "matrizCov = retornos.cov()"
   ]
  },
  {
   "cell_type": "code",
   "execution_count": 4,
   "metadata": {},
   "outputs": [
    {
     "data": {
      "text/html": [
       "<div>\n",
       "<style scoped>\n",
       "    .dataframe tbody tr th:only-of-type {\n",
       "        vertical-align: middle;\n",
       "    }\n",
       "\n",
       "    .dataframe tbody tr th {\n",
       "        vertical-align: top;\n",
       "    }\n",
       "\n",
       "    .dataframe thead th {\n",
       "        text-align: right;\n",
       "    }\n",
       "</style>\n",
       "<table border=\"1\" class=\"dataframe\">\n",
       "  <thead>\n",
       "    <tr style=\"text-align: right;\">\n",
       "      <th></th>\n",
       "      <th>AAPL</th>\n",
       "      <th>AMZN</th>\n",
       "      <th>KO</th>\n",
       "      <th>V</th>\n",
       "    </tr>\n",
       "    <tr>\n",
       "      <th>Date</th>\n",
       "      <th></th>\n",
       "      <th></th>\n",
       "      <th></th>\n",
       "      <th></th>\n",
       "    </tr>\n",
       "  </thead>\n",
       "  <tbody>\n",
       "    <tr>\n",
       "      <th>2015-01-05</th>\n",
       "      <td>-0.028576</td>\n",
       "      <td>-0.020731</td>\n",
       "      <td>0.000000</td>\n",
       "      <td>-0.022321</td>\n",
       "    </tr>\n",
       "    <tr>\n",
       "      <th>2015-01-06</th>\n",
       "      <td>0.000094</td>\n",
       "      <td>-0.023098</td>\n",
       "      <td>0.007565</td>\n",
       "      <td>-0.006465</td>\n",
       "    </tr>\n",
       "    <tr>\n",
       "      <th>2015-01-07</th>\n",
       "      <td>0.013925</td>\n",
       "      <td>0.010544</td>\n",
       "      <td>0.012405</td>\n",
       "      <td>0.013309</td>\n",
       "    </tr>\n",
       "    <tr>\n",
       "      <th>2015-01-08</th>\n",
       "      <td>0.037703</td>\n",
       "      <td>0.006813</td>\n",
       "      <td>0.012023</td>\n",
       "      <td>0.013323</td>\n",
       "    </tr>\n",
       "    <tr>\n",
       "      <th>2015-01-09</th>\n",
       "      <td>0.001072</td>\n",
       "      <td>-0.011818</td>\n",
       "      <td>-0.011094</td>\n",
       "      <td>-0.014934</td>\n",
       "    </tr>\n",
       "    <tr>\n",
       "      <th>...</th>\n",
       "      <td>...</td>\n",
       "      <td>...</td>\n",
       "      <td>...</td>\n",
       "      <td>...</td>\n",
       "    </tr>\n",
       "    <tr>\n",
       "      <th>2022-12-23</th>\n",
       "      <td>-0.002802</td>\n",
       "      <td>0.017274</td>\n",
       "      <td>0.007550</td>\n",
       "      <td>0.003748</td>\n",
       "    </tr>\n",
       "    <tr>\n",
       "      <th>2022-12-27</th>\n",
       "      <td>-0.013976</td>\n",
       "      <td>-0.026266</td>\n",
       "      <td>0.006092</td>\n",
       "      <td>0.002232</td>\n",
       "    </tr>\n",
       "    <tr>\n",
       "      <th>2022-12-28</th>\n",
       "      <td>-0.031166</td>\n",
       "      <td>-0.014801</td>\n",
       "      <td>-0.010017</td>\n",
       "      <td>-0.006322</td>\n",
       "    </tr>\n",
       "    <tr>\n",
       "      <th>2022-12-29</th>\n",
       "      <td>0.027931</td>\n",
       "      <td>0.028436</td>\n",
       "      <td>0.005960</td>\n",
       "      <td>0.014865</td>\n",
       "    </tr>\n",
       "    <tr>\n",
       "      <th>2022-12-30</th>\n",
       "      <td>0.002466</td>\n",
       "      <td>-0.002141</td>\n",
       "      <td>-0.005331</td>\n",
       "      <td>-0.001443</td>\n",
       "    </tr>\n",
       "  </tbody>\n",
       "</table>\n",
       "<p>2013 rows × 4 columns</p>\n",
       "</div>"
      ],
      "text/plain": [
       "                AAPL      AMZN        KO         V\n",
       "Date                                              \n",
       "2015-01-05 -0.028576 -0.020731  0.000000 -0.022321\n",
       "2015-01-06  0.000094 -0.023098  0.007565 -0.006465\n",
       "2015-01-07  0.013925  0.010544  0.012405  0.013309\n",
       "2015-01-08  0.037703  0.006813  0.012023  0.013323\n",
       "2015-01-09  0.001072 -0.011818 -0.011094 -0.014934\n",
       "...              ...       ...       ...       ...\n",
       "2022-12-23 -0.002802  0.017274  0.007550  0.003748\n",
       "2022-12-27 -0.013976 -0.026266  0.006092  0.002232\n",
       "2022-12-28 -0.031166 -0.014801 -0.010017 -0.006322\n",
       "2022-12-29  0.027931  0.028436  0.005960  0.014865\n",
       "2022-12-30  0.002466 -0.002141 -0.005331 -0.001443\n",
       "\n",
       "[2013 rows x 4 columns]"
      ]
     },
     "execution_count": 4,
     "metadata": {},
     "output_type": "execute_result"
    }
   ],
   "source": [
    "retornos"
   ]
  },
  {
   "cell_type": "code",
   "execution_count": 5,
   "metadata": {},
   "outputs": [
    {
     "data": {
      "text/html": [
       "<div>\n",
       "<style scoped>\n",
       "    .dataframe tbody tr th:only-of-type {\n",
       "        vertical-align: middle;\n",
       "    }\n",
       "\n",
       "    .dataframe tbody tr th {\n",
       "        vertical-align: top;\n",
       "    }\n",
       "\n",
       "    .dataframe thead th {\n",
       "        text-align: right;\n",
       "    }\n",
       "</style>\n",
       "<table border=\"1\" class=\"dataframe\">\n",
       "  <thead>\n",
       "    <tr style=\"text-align: right;\">\n",
       "      <th></th>\n",
       "      <th>AAPL</th>\n",
       "      <th>AMZN</th>\n",
       "      <th>KO</th>\n",
       "      <th>V</th>\n",
       "    </tr>\n",
       "  </thead>\n",
       "  <tbody>\n",
       "    <tr>\n",
       "      <th>AAPL</th>\n",
       "      <td>0.000356</td>\n",
       "      <td>0.000232</td>\n",
       "      <td>0.000089</td>\n",
       "      <td>0.000185</td>\n",
       "    </tr>\n",
       "    <tr>\n",
       "      <th>AMZN</th>\n",
       "      <td>0.000232</td>\n",
       "      <td>0.000436</td>\n",
       "      <td>0.000064</td>\n",
       "      <td>0.000170</td>\n",
       "    </tr>\n",
       "    <tr>\n",
       "      <th>KO</th>\n",
       "      <td>0.000089</td>\n",
       "      <td>0.000064</td>\n",
       "      <td>0.000141</td>\n",
       "      <td>0.000100</td>\n",
       "    </tr>\n",
       "    <tr>\n",
       "      <th>V</th>\n",
       "      <td>0.000185</td>\n",
       "      <td>0.000170</td>\n",
       "      <td>0.000100</td>\n",
       "      <td>0.000269</td>\n",
       "    </tr>\n",
       "  </tbody>\n",
       "</table>\n",
       "</div>"
      ],
      "text/plain": [
       "          AAPL      AMZN        KO         V\n",
       "AAPL  0.000356  0.000232  0.000089  0.000185\n",
       "AMZN  0.000232  0.000436  0.000064  0.000170\n",
       "KO    0.000089  0.000064  0.000141  0.000100\n",
       "V     0.000185  0.000170  0.000100  0.000269"
      ]
     },
     "execution_count": 5,
     "metadata": {},
     "output_type": "execute_result"
    }
   ],
   "source": [
    "matrizCov"
   ]
  },
  {
   "cell_type": "code",
   "execution_count": 6,
   "metadata": {},
   "outputs": [],
   "source": [
    "numeroCarteiras = 100000\n",
    "vetorRetornosEsperados = np.zeros(numeroCarteiras)\n",
    "vetorVolatilidadeEsperada = np.zeros(numeroCarteiras)\n",
    "vetorSharp = np.zeros(numeroCarteiras)\n",
    "tabelaPesos = np.zeros((numeroCarteiras, len(ativos)))\n",
    "\n",
    "\n",
    "for i in range(numeroCarteiras):\n",
    "    \n",
    "    pesos = np.random.random(len(ativos))\n",
    "    pesos = pesos/np.sum(pesos)\n",
    "    tabelaPesos[i,:] = pesos\n",
    "    \n",
    "    \n",
    "    vetorRetornosEsperados[i] = np.sum(mediaRetornos * pesos * 252)\n",
    "    vetorVolatilidadeEsperada[i] = np.sqrt(np.dot(pesos.T, np.dot(matrizCov*252, pesos)))\n",
    "\n",
    "    vetorSharp[i] = vetorRetornosEsperados[i]/vetorVolatilidadeEsperada[i]\n"
   ]
  },
  {
   "cell_type": "code",
   "execution_count": 7,
   "metadata": {},
   "outputs": [
    {
     "data": {
      "text/plain": [
       "array([0.74449728, 0.76118574, 0.75326701, ..., 0.76811074, 0.72240666,\n",
       "       0.77020615])"
      ]
     },
     "execution_count": 7,
     "metadata": {},
     "output_type": "execute_result"
    }
   ],
   "source": [
    "vetorSharp"
   ]
  },
  {
   "cell_type": "code",
   "execution_count": 8,
   "metadata": {},
   "outputs": [
    {
     "data": {
      "text/plain": [
       "array([0.35719666, 0.28321301, 0.23512245, 0.12446787])"
      ]
     },
     "execution_count": 8,
     "metadata": {},
     "output_type": "execute_result"
    }
   ],
   "source": [
    "indiceDoSharpMaximo = vetorSharp.argmax()\n",
    "\n",
    "tabelaPesos[indiceDoSharpMaximo]"
   ]
  },
  {
   "cell_type": "code",
   "execution_count": 9,
   "metadata": {},
   "outputs": [
    {
     "data": {
      "text/plain": [
       "array([0.19262518, 0.16815138, 0.16284756, ..., 0.18997094, 0.14638088,\n",
       "       0.1920688 ])"
      ]
     },
     "execution_count": 9,
     "metadata": {},
     "output_type": "execute_result"
    }
   ],
   "source": [
    "tabelaRetornosEsperadosArit = np.exp(vetorRetornosEsperados) - 1\n",
    "\n",
    "tabelaRetornosEsperadosArit"
   ]
  },
  {
   "cell_type": "code",
   "execution_count": 10,
   "metadata": {},
   "outputs": [],
   "source": [
    "eixoYFronteiraEficiente = np.linspace(tabelaRetornosEsperadosArit.min(), tabelaRetornosEsperadosArit.max(), 50)\n",
    "\n",
    "def pegando_retorno(pesoTeste):\n",
    "    pesoTeste = np.array(pesoTeste)\n",
    "    retorno = np.sum(mediaRetornos * pesoTeste) * 252\n",
    "    retorno = np.exp(retorno) - 1\n",
    "    \n",
    "    return retorno\n",
    "\n",
    "def checando_soma_pesos(pesoTeste):\n",
    "    \n",
    "    return np.sum(pesoTeste) - 1\n",
    "\n",
    "def pegando_vol(pesoTeste):\n",
    "    pesoTeste = np.array(pesoTeste)\n",
    "    vol = np.sqrt(np.dot(pesoTeste.T, np.dot(matrizCov * 252, pesoTeste)))\n",
    "    \n",
    "    return vol\n",
    "\n",
    "\n",
    "pesoInicial = [1/len(ativos)] * len(ativos)\n",
    "limites = tuple([(0,1) for ativo in ativos])\n",
    "\n",
    "eixoXFronteiraEficiente = []\n",
    "\n",
    "for retornoPossivel in eixoYFronteiraEficiente:\n",
    "    \n",
    "    restricoes = ({'type':'eq', 'fun':checando_soma_pesos},\n",
    "            {'type':'eq', 'fun': lambda w: pegando_retorno(w) - retornoPossivel})\n",
    "    \n",
    "    result = minimize(pegando_vol, pesoInicial, method= 'SLSQP', bounds= limites, constraints = restricoes)\n",
    "    \n",
    "    eixoXFronteiraEficiente.append(result['fun'])"
   ]
  },
  {
   "cell_type": "code",
   "execution_count": 11,
   "metadata": {},
   "outputs": [
    {
     "data": {
      "text/plain": [
       " message: Optimization terminated successfully\n",
       " success: True\n",
       "  status: 0\n",
       "     fun: 0.3070578654186594\n",
       "       x: [ 1.774e-01  8.226e-01  1.093e-16  0.000e+00]\n",
       "     nit: 5\n",
       "     jac: [ 2.085e-01  3.283e-01  5.594e-02  1.415e-01]\n",
       "    nfev: 25\n",
       "    njev: 5"
      ]
     },
     "execution_count": 11,
     "metadata": {},
     "output_type": "execute_result"
    }
   ],
   "source": [
    "result"
   ]
  },
  {
   "cell_type": "code",
   "execution_count": 12,
   "metadata": {},
   "outputs": [
    {
     "data": {
      "image/png": "[encoded data removed]",
      "text/plain": [
       "<Figure size 640x480 with 1 Axes>"
      ]
     },
     "metadata": {},
     "output_type": "display_data"
    }
   ],
   "source": [
    "fig, ax = plt.subplots()\n",
    "\n",
    "ax.scatter(vetorVolatilidadeEsperada, tabelaRetornosEsperadosArit, c= vetorSharp)\n",
    "plt.xlabel('Volatilidade Esperada')\n",
    "plt.ylabel('Retornos Esperados')\n",
    "ax.scatter(vetorVolatilidadeEsperada[indiceDoSharpMaximo], tabelaRetornosEsperadosArit[indiceDoSharpMaximo], c = '#F5D300')\n",
    "ax.plot(eixoXFronteiraEficiente, eixoYFronteiraEficiente)\n",
    "ax.yaxis.set_major_formatter(mtick.PercentFormatter(1.0))\n",
    "ax.xaxis.set_major_formatter(mtick.PercentFormatter(1.0))\n",
    "\n",
    "plt.show()"
   ]
  }
 ],
 "metadata": {
  "kernelspec": {
   "display_name": "base",
   "language": "python",
   "name": "python3"
  },
  "language_info": {
   "codemirror_mode": {
    "name": "ipython",
    "version": 3
   },
   "file_extension": ".py",
   "mimetype": "text/x-python",
   "name": "python",
   "nbconvert_exporter": "python",
   "pygments_lexer": "ipython3",
   "version": "3.10.9"
  },
  "orig_nbformat": 4
 },
 "nbformat": 4,
 "nbformat_minor": 2
}
